{
 "cells": [
  {
   "cell_type": "code",
   "execution_count": 2,
   "metadata": {},
   "outputs": [],
   "source": [
    "import pandas as pd\n",
    "from Bio import SeqIO\n",
    "import numpy as np\n",
    "import matplotlib.pyplot as plt"
   ]
  },
  {
   "cell_type": "code",
   "execution_count": 3,
   "metadata": {},
   "outputs": [],
   "source": [
    "result_dir_b = '/home/zabel/projects/MpsABC/results_wf/blast/mspb/'"
   ]
  },
  {
   "cell_type": "code",
   "execution_count": 4,
   "metadata": {},
   "outputs": [],
   "source": [
    "result_dir_a = '/home/zabel/projects/MpsABC/results_wf/blast/mspa/'"
   ]
  },
  {
   "cell_type": "code",
   "execution_count": 5,
   "metadata": {},
   "outputs": [],
   "source": [
    "# Read genbank file for mpsa downloaded from BLAST\n",
    "# Fields: query acc.ver, subject acc.ver, % identity, alignment length, mismatches, gap opens, q. start, q. end, s. start, s. end, evalue, bit score, % positives\n",
    "# 3404 hits found\n",
    "t_a = pd.read_csv(result_dir_a+'mpsa_bacteria2.txt', sep='\\t', header=None)"
   ]
  },
  {
   "cell_type": "code",
   "execution_count": 5,
   "metadata": {},
   "outputs": [
    {
     "name": "stdout",
     "output_type": "stream",
     "text": [
      "5000\n"
     ]
    }
   ],
   "source": [
    "print(len(t_a))"
   ]
  },
  {
   "cell_type": "code",
   "execution_count": 6,
   "metadata": {},
   "outputs": [],
   "source": [
    "# Read genbank file for mpsb downloaded from BLAST\n",
    "# Fields: query acc.ver, subject acc.ver, % identity, alignment length, mismatches, gap opens, q. start, q. end, s. start, s. end, evalue, bit score, % positives\n",
    "# 3404 hits found\n",
    "t_b = pd.read_csv(result_dir_b+'mpsb_bacteria.txt', sep='\\t', header=None)"
   ]
  },
  {
   "cell_type": "code",
   "execution_count": 7,
   "metadata": {},
   "outputs": [
    {
     "name": "stdout",
     "output_type": "stream",
     "text": [
      "2366\n"
     ]
    }
   ],
   "source": [
    "print(len(t_b))"
   ]
  },
  {
   "cell_type": "code",
   "execution_count": 8,
   "metadata": {},
   "outputs": [],
   "source": [
    "t_a2 = pd.read_csv(result_dir_a+'mpsa_bacteria_2.txt', sep='\\t', header=None)"
   ]
  },
  {
   "cell_type": "code",
   "execution_count": 9,
   "metadata": {},
   "outputs": [
    {
     "name": "stdout",
     "output_type": "stream",
     "text": [
      "192\n"
     ]
    }
   ],
   "source": [
    "print(len(t_a2))"
   ]
  },
  {
   "cell_type": "code",
   "execution_count": 10,
   "metadata": {},
   "outputs": [],
   "source": [
    "# first 10 entries\n",
    "t_a.columns = ['query acc.ver', 'subject acc.ver', '% identity', 'alignment length', 'mismatches', 'gap opens', 'q. start', 'q. end', 's. start', 's. end', 'evalue', 'bit score', '% positives']\n",
    "t_b.columns = ['query acc.ver', 'subject acc.ver', '% identity', 'alignment length', 'mismatches', 'gap opens', 'q. start', 'q. end', 's. start', 's. end', 'evalue', 'bit score', '% positives']\n",
    "t_a2.columns = ['query acc.ver', 'subject acc.ver', '% identity', 'alignment length', 'mismatches', 'gap opens', 'q. start', 'q. end', 's. start', 's. end', 'evalue', 'bit score', '% positives']\n",
    "t_a = t_a.append(t_a2)"
   ]
  },
  {
   "cell_type": "code",
   "execution_count": 11,
   "metadata": {},
   "outputs": [],
   "source": [
    "t_b = t_b.drop_duplicates('subject acc.ver', keep='first')"
   ]
  },
  {
   "cell_type": "code",
   "execution_count": 12,
   "metadata": {},
   "outputs": [],
   "source": [
    "t_b = t_b.reset_index(drop=True)"
   ]
  },
  {
   "cell_type": "code",
   "execution_count": 13,
   "metadata": {},
   "outputs": [
    {
     "name": "stdout",
     "output_type": "stream",
     "text": [
      "5192 2202\n"
     ]
    }
   ],
   "source": [
    "print(len(t_a), len(t_b))"
   ]
  },
  {
   "cell_type": "code",
   "execution_count": 14,
   "metadata": {},
   "outputs": [],
   "source": [
    "ids_a = []\n",
    "descriptions_a = []\n",
    "records_a = []\n",
    "sequences_a = []\n",
    "for record in SeqIO.parse(open(result_dir_a + 'mpsa_bacteria.gb', 'r'), 'genbank'):\n",
    "    ids_a.append(record.id)\n",
    "    descriptions_a.append(record.description)\n",
    "    records_a.append(record)\n",
    "    sequences_a.append(str(record.seq))\n",
    "for record in SeqIO.parse(open(result_dir_a + 'mpsa_bacteria2.gb', 'r'), 'genbank'):\n",
    "    ids_a.append(record.id)\n",
    "    descriptions_a.append(record.description)\n",
    "    records_a.append(record)\n",
    "    sequences_a.append(str(record.seq))"
   ]
  },
  {
   "cell_type": "code",
   "execution_count": 15,
   "metadata": {},
   "outputs": [],
   "source": [
    "ids_b= []\n",
    "descriptions_b = []\n",
    "records_b = []\n",
    "sequences_b = []\n",
    "for record in SeqIO.parse(open(result_dir_b + 'mpsb_bacteria.gb', 'r'), 'genbank'):\n",
    "    ids_b.append(record.id)\n",
    "    descriptions_b.append(record.description)\n",
    "    records_b.append(record)\n",
    "    sequences_b.append(str(record.seq))"
   ]
  },
  {
   "cell_type": "code",
   "execution_count": 16,
   "metadata": {},
   "outputs": [
    {
     "name": "stdout",
     "output_type": "stream",
     "text": [
      "5192 2202\n"
     ]
    }
   ],
   "source": [
    "print(len(ids_a), len(ids_b))"
   ]
  },
  {
   "cell_type": "code",
   "execution_count": 17,
   "metadata": {},
   "outputs": [],
   "source": [
    "species_with_strains_a = [s[s.find(\"[\")+1:s.find(\"]\")] for s in descriptions_a]\n",
    "species_a = [' '.join(species.split(' ')[:2]) for species in species_with_strains_a]"
   ]
  },
  {
   "cell_type": "code",
   "execution_count": 18,
   "metadata": {},
   "outputs": [],
   "source": [
    "species_with_strains_b = [s[s.find(\"[\")+1:s.find(\"]\")] for s in descriptions_b]\n",
    "species_b = [' '.join(species.split(' ')[:2]) for species in species_with_strains_b]"
   ]
  },
  {
   "cell_type": "code",
   "execution_count": 19,
   "metadata": {},
   "outputs": [],
   "source": [
    "cds_a = []\n",
    "for i in records_a:\n",
    "    l = len(cds_a)\n",
    "    for f in i.features:\n",
    "        if f.type == 'CDS':\n",
    "            cds_a.append(f.qualifiers['coded_by'][0])\n",
    "    if len(i.id) == 8:\n",
    "        cds_a.append(':-1..-1')\n",
    "    if l == len(cds_a):\n",
    "        cds_a.append(':-1..-1')"
   ]
  },
  {
   "cell_type": "code",
   "execution_count": 20,
   "metadata": {},
   "outputs": [],
   "source": [
    "cds_b = []\n",
    "for i in records_b:\n",
    "    l = len(cds_b)\n",
    "    for f in i.features:\n",
    "        if f.type == 'CDS':\n",
    "            cds_b.append(f.qualifiers['coded_by'][0])\n",
    "    if len(i.id) == 8:\n",
    "        cds_b.append(':-1..-1')\n",
    "    if l == len(cds_b):\n",
    "        cds_b.append(':-1..-1')"
   ]
  },
  {
   "cell_type": "code",
   "execution_count": 21,
   "metadata": {},
   "outputs": [],
   "source": [
    "cds_mpsa_start = []\n",
    "cds_mpsa_end = []\n",
    "for i in cds_a:\n",
    "    cds = i[i.find(':')+1:]\n",
    "    start = cds[:cds.find('..')]\n",
    "    end = cds[cds.find('..')+2:]\n",
    "    if len(start)>10 or len(end)>10:\n",
    "        cds_mpsa_start.append(-1)\n",
    "        cds_mpsa_end.append(-1)\n",
    "    else:\n",
    "        if start[0] == '<':\n",
    "            cds_mpsa_start.append(int(start[1:]))\n",
    "        else: cds_mpsa_start.append(int(start))\n",
    "        if (end[0] == '>') and (end[-1] ==')'):\n",
    "            if(end[-2] ==')'):\n",
    "                print(end)\n",
    "                cds_mpsa_end.append(int(end[1:-2]))\n",
    "            else:\n",
    "                cds_mpsa_end.append(int(end[1:-1]))\n",
    "        elif (end[0] == '>') and (end[-1] !=')'):\n",
    "            cds_mpsa_end.append(int(end[1:]))\n",
    "        elif (end[0] != '>') and (end[-1] ==')'):\n",
    "            if (end[-2]==')'):\n",
    "                cds_mpsa_end.append(int(end[:-2]))\n",
    "            else:\n",
    "                cds_mpsa_end.append(int(end[:-1]))\n",
    "        else: \n",
    "            cds_mpsa_end.append(int(end))"
   ]
  },
  {
   "cell_type": "code",
   "execution_count": 22,
   "metadata": {},
   "outputs": [],
   "source": [
    "cds_mpsb_start = []\n",
    "cds_mpsb_end = []\n",
    "for i in cds_b:\n",
    "    cds = i[i.find(':')+1:]\n",
    "    start = cds[:cds.find('..')]\n",
    "    end = cds[cds.find('..')+2:]\n",
    "    if len(start)>10 or len(end)>10:\n",
    "        cds_mpsb_start.append(-1)\n",
    "        cds_mpsb_end.append(-1)\n",
    "    else:\n",
    "        if start[0] == '<':\n",
    "            cds_mpsb_start.append(int(start[1:]))\n",
    "        else: cds_mpsb_start.append(int(start))\n",
    "        if (end[0] == '>') and (end[-1] ==')'):\n",
    "            if(end[-2] ==')'):\n",
    "                print(end)\n",
    "                cds_mpsb_end.append(int(end[1:-2]))\n",
    "            else:\n",
    "                cds_mpsb_end.append(int(end[1:-1]))\n",
    "        elif (end[0] == '>') and (end[-1] !=')'):\n",
    "            cds_mpsb_end.append(int(end[1:]))\n",
    "        elif (end[0] != '>') and (end[-1] ==')'):\n",
    "            if (end[-2]==')'):\n",
    "                cds_mpsb_end.append(int(end[:-2]))\n",
    "            else:\n",
    "                cds_mpsb_end.append(int(end[:-1]))\n",
    "        else: \n",
    "            cds_mpsb_end.append(int(end))"
   ]
  },
  {
   "cell_type": "code",
   "execution_count": 23,
   "metadata": {},
   "outputs": [],
   "source": [
    "t_a[13] = ['' for i in range(len(t_a))]\n",
    "t_a[14] = ['' for i in range(len(t_a))]\n",
    "for i, j in enumerate(ids_a):\n",
    "    t_a.loc[t_a[t_a['subject acc.ver']==j].index, 13]=species_a[i]\n",
    "    t_a.loc[t_a[t_a['subject acc.ver']==j].index, 14]=sequences_a[i]\n",
    "    t_a.loc[t_a[t_a['subject acc.ver']==j].index, 15]=descriptions_a[i]\n",
    "    t_a.loc[t_a[t_a['subject acc.ver']==j].index, 16]=cds_mpsa_start[i]\n",
    "    t_a.loc[t_a[t_a['subject acc.ver']==j].index, 17]=cds_mpsa_end[i]"
   ]
  },
  {
   "cell_type": "code",
   "execution_count": 24,
   "metadata": {},
   "outputs": [],
   "source": [
    "t_b[13] = ['' for i in range(len(t_b))]\n",
    "t_b[14] = ['' for i in range(len(t_b))]\n",
    "for i, j in enumerate(ids_b):\n",
    "    t_b.loc[t_b[t_b['subject acc.ver']==j].index, 13]=species_b[i]\n",
    "    t_b.loc[t_b[t_b['subject acc.ver']==j].index, 14]=sequences_b[i]\n",
    "    t_b.loc[t_b[t_b['subject acc.ver']==j].index, 15]=descriptions_b[i]\n",
    "    t_b.loc[t_b[t_b['subject acc.ver']==j].index, 16]=cds_mpsb_start[i]\n",
    "    t_b.loc[t_b[t_b['subject acc.ver']==j].index, 17]=cds_mpsb_end[i]"
   ]
  },
  {
   "cell_type": "code",
   "execution_count": 25,
   "metadata": {},
   "outputs": [],
   "source": [
    "operons_a = []\n",
    "operons_b = []\n",
    "for s in list(set(t_b[13].tolist())):\n",
    "    subset_a = t_a[t_a[13]==s]\n",
    "    subset_b = t_b[t_b[13]==s]\n",
    "    a_starts = t_a[t_a[13]==s][16].tolist()\n",
    "    a_ends = t_a[t_a[13]==s][17].tolist()\n",
    "    b_starts = t_b[t_b[13]==s][16].tolist()\n",
    "    b_ends = t_b[t_b[13]==s][17].tolist()\n",
    "    #print(a_starts, a_ends, b_starts, b_ends)\n",
    "    for i in range(len(b_starts)):\n",
    "        l = len(operons_a)\n",
    "        d1 = []\n",
    "        d2 = []\n",
    "        for j in range(len(a_starts)):\n",
    "            d1.append(abs(a_starts[j] - b_ends[i]))\n",
    "            d2.append(abs(a_ends[j] - b_starts[i]))\n",
    "        if len(d1)!=0:\n",
    "            m1 = np.min(d1)\n",
    "            m2 = np.min(d2)\n",
    "            if m1<=m2:\n",
    "                if m1<=100:\n",
    "                    operons_a.append(subset_a.iloc[np.argmin(d1)]['subject acc.ver'])\n",
    "                    operons_b.append(subset_b.iloc[i]['subject acc.ver'])\n",
    "            else:\n",
    "                if m2<=100:\n",
    "                    operons_a.append(subset_a.iloc[np.argmin(d2)]['subject acc.ver'])\n",
    "                    operons_b.append(subset_b.iloc[i]['subject acc.ver'])\n",
    "        if l!=len(operons_a):\n",
    "            break"
   ]
  },
  {
   "cell_type": "code",
   "execution_count": 26,
   "metadata": {},
   "outputs": [
    {
     "name": "stdout",
     "output_type": "stream",
     "text": [
      "352 352\n"
     ]
    }
   ],
   "source": [
    "print(len(operons_a), len(operons_b))"
   ]
  },
  {
   "cell_type": "code",
   "execution_count": 27,
   "metadata": {},
   "outputs": [],
   "source": [
    "keep_a = t_a[t_a['subject acc.ver'].isin(operons_a)]\n",
    "keep_b = t_b[t_b['subject acc.ver'].isin(operons_b)]"
   ]
  },
  {
   "cell_type": "code",
   "execution_count": 28,
   "metadata": {},
   "outputs": [],
   "source": [
    "keep_a_s = keep_a.sort_values(by=13)"
   ]
  },
  {
   "cell_type": "code",
   "execution_count": 29,
   "metadata": {},
   "outputs": [],
   "source": [
    "keep_b_s = keep_b.sort_values(by=13)"
   ]
  },
  {
   "cell_type": "code",
   "execution_count": 32,
   "metadata": {},
   "outputs": [
    {
     "data": {
      "text/plain": [
       "['Acidibacillus ferrooxidans',\n",
       " 'Acidibacillus sulfuroxidans',\n",
       " 'Acidiphilium sp.',\n",
       " 'Acidithiobacillus caldus',\n",
       " 'Acidithiobacillus ferrivorans',\n",
       " 'Acidithiobacillus ferrooxidans',\n",
       " 'Acidithiobacillus sp.',\n",
       " 'Acidithiobacillus thiooxidans',\n",
       " 'Acidobacteria bacterium',\n",
       " 'Acidovorax sp.',\n",
       " 'Aequorivita antarctica',\n",
       " 'Aequorivita lipolytica',\n",
       " 'Aequorivita sp.',\n",
       " 'Aeribacillus pallidus',\n",
       " 'Aestuariispira insulae',\n",
       " 'Afipia felis',\n",
       " 'Alicycliphilus denitrificans',\n",
       " 'Alicyclobacillus acidocaldarius',\n",
       " 'Alicyclobacillus hesperidum',\n",
       " 'Alicyclobacillus montanus',\n",
       " 'Alicyclobacillus vulcanalis',\n",
       " 'Alphaproteobacteria bacterium',\n",
       " 'Anoxybacillus sp.',\n",
       " 'Aquifex aeolicus',\n",
       " 'Arachidicoccus rhizosphaerae',\n",
       " 'Archangium gephyra',\n",
       " 'Archangium sp.',\n",
       " 'Azonexus fungiphilus',\n",
       " 'Azospirillum oryzae',\n",
       " 'Azotobacter chroococcum',\n",
       " 'Bacillus anthracis',\n",
       " 'Bacillus atrophaeus',\n",
       " 'Bacillus bataviensis',\n",
       " 'Bacillus cereus',\n",
       " 'Bacillus cytotoxicus',\n",
       " 'Bacillus glycinifermentans',\n",
       " 'Bacillus halotolerans',\n",
       " 'Bacillus hemicellulosilyticus',\n",
       " 'Bacillus intestinalis',\n",
       " 'Bacillus licheniformis',\n",
       " 'Bacillus niacini',\n",
       " 'Bacillus paralicheniformis',\n",
       " 'Bacillus shackletonii',\n",
       " 'Bacillus sp.',\n",
       " 'Bacillus subtilis',\n",
       " 'Bacillus taeanensis',\n",
       " 'Bacillus thermoamylovorans',\n",
       " 'Bacillus thermozeamaize',\n",
       " 'Bacillus thuringiensis',\n",
       " 'Bacillus toyonensis',\n",
       " 'Bacillus wiedmannii',\n",
       " 'Bacillus wudalianchiensis',\n",
       " 'Bacterioplanes sanyensis',\n",
       " 'Bacteroidetes bacterium',\n",
       " 'Belliella baltica',\n",
       " 'Bermanella marisrubri',\n",
       " 'Blastomonas sp.',\n",
       " 'Blastopirellula cremea',\n",
       " 'Boseongicola aestuarii',\n",
       " 'Bradyrhizobium oligotrophicum',\n",
       " 'Bradyrhizobium sp.',\n",
       " 'Brumimicrobium sp.',\n",
       " 'Burkholderiales bacterium',\n",
       " 'Caenispirillum salinarum',\n",
       " 'Candidatus Berkiella',\n",
       " 'Candidatus Dependentiae',\n",
       " 'Candidatus Nitrospira',\n",
       " 'Candidatus Rhodobacter',\n",
       " 'Candidatus Thermofonsia',\n",
       " 'Candidatus Thiodiazotropha',\n",
       " 'Candidatus Thiodictyon',\n",
       " 'Caulobacter vibrioides',\n",
       " 'Cellulophaga tyrosinoxydans',\n",
       " 'Chlamydiales bacterium',\n",
       " 'Chloroflexi bacterium',\n",
       " 'Chloroflexus aurantiacus',\n",
       " 'Chromobacterium haemolyticum',\n",
       " 'Chromobacterium sp.',\n",
       " 'Chromobacterium violaceum',\n",
       " 'Chryseolinea serpens',\n",
       " 'Chryseolinea sp.',\n",
       " 'Citromicrobium sp.',\n",
       " 'Congregibacter litoralis',\n",
       " 'Criblamydia sequanensis',\n",
       " 'Curvibacter sp.',\n",
       " 'Cyclobacterium lianum',\n",
       " 'Cystobacter ferrugineus',\n",
       " 'Cytophagaceae bacterium',\n",
       " 'Deltaproteobacteria bacterium',\n",
       " 'Dichotomicrobium thermohalophilum',\n",
       " 'Dietzia cinnamea',\n",
       " 'Ensifer adhaerens',\n",
       " 'Epibacterium scottomollicae',\n",
       " 'Fibrella sp.',\n",
       " 'Fibrisoma limi',\n",
       " 'Fibrisoma sp.',\n",
       " 'Flavimaricola marinus',\n",
       " 'Flavobacterium crassostreae',\n",
       " 'Flavobacterium lacus',\n",
       " 'Flavobacterium sp.',\n",
       " 'Fontimonas thermophila',\n",
       " 'Formosa sp.',\n",
       " 'Fulvimarina manganoxydans',\n",
       " 'Gammaproteobacteria bacterium',\n",
       " 'Gelidibacter algens',\n",
       " 'Geobacillus genomosp.',\n",
       " 'Geobacillus icigianus',\n",
       " 'Geobacillus lituanicus',\n",
       " 'Geobacillus sp.',\n",
       " 'Geobacillus stearothermophilus',\n",
       " 'Geobacillus thermodenitrificans',\n",
       " 'Geobacillus thermoleovorans',\n",
       " 'Geobacillus yumthangensis',\n",
       " 'Geobacillus zalihae',\n",
       " 'Halioglobus lutimaris',\n",
       " 'Haliscomenobacter hydrossis',\n",
       " 'Halobacteriovorax sp.',\n",
       " 'Halomonas saccharevitans',\n",
       " 'Halomonas salina',\n",
       " 'Halothiobacillus neapolitanus',\n",
       " 'Halothiobacillus sp.',\n",
       " 'Hanstruepera neustonica',\n",
       " 'Herbaspirillum frisingense',\n",
       " 'Herbaspirillum rubrisubalbicans',\n",
       " 'Herbaspirillum seropedicae',\n",
       " 'Herbaspirillum sp.',\n",
       " 'Holospora curviuscula',\n",
       " 'Holospora obtusa',\n",
       " 'Holospora undulata',\n",
       " 'Hydrogenibacillus schlegelii',\n",
       " 'Hydrogenobacter thermophilus',\n",
       " 'Hydrogenophaga sp.',\n",
       " 'Hymenobacter nivis',\n",
       " 'Idiomarina maritima',\n",
       " 'Idiomarina xiamenensis',\n",
       " 'Isosphaera pallida',\n",
       " 'Jannaschia faecimaris',\n",
       " 'Janthinobacterium sp.',\n",
       " 'Kangiella profundi',\n",
       " 'Labrenzia aggregata',\n",
       " 'Lacimicrobium alkaliphilum',\n",
       " 'Legionella birminghamensis',\n",
       " 'Legionella brunensis',\n",
       " 'Legionella drozanskii',\n",
       " 'Legionella erythra',\n",
       " 'Legionella feeleii',\n",
       " 'Legionella geestiana',\n",
       " 'Legionella maceachernii',\n",
       " 'Legionella parisiensis',\n",
       " 'Legionella quateirensis',\n",
       " 'Legionella quinlivanii',\n",
       " 'Legionella rubrilucens',\n",
       " 'Legionella sp.',\n",
       " 'Legionella waltersii',\n",
       " 'Legionella worsleiensis',\n",
       " 'Leisingera aquaemixtae',\n",
       " 'Leisingera sp.',\n",
       " 'Leptospirillum ferriphilum',\n",
       " 'Leptospirillum rubarum',\n",
       " 'Longibacter salinarum',\n",
       " 'Longimonas halophila',\n",
       " 'Luminiphilus syltensis',\n",
       " 'Lysinibacillus endophyticus',\n",
       " 'Lysinibacillus sp.',\n",
       " 'Lysinibacillus telephonicus',\n",
       " 'Mameliella alba',\n",
       " 'Maribacter cobaltidurans',\n",
       " 'Marinobacter adhaerens',\n",
       " 'Marinobacter antarcticus',\n",
       " 'Marinobacter daqiaonensis',\n",
       " 'Marinobacter gudaonensis',\n",
       " 'Marinobacter hydrocarbonoclasticus',\n",
       " 'Marinobacter pelagius',\n",
       " 'Marinobacter santoriniensis',\n",
       " 'Marinobacter shengliensis',\n",
       " 'Marinobacter sp.',\n",
       " 'Marinomonas aquimarina',\n",
       " 'Marinomonas fungiae',\n",
       " 'Marinomonas gallaica',\n",
       " 'Marinomonas hwangdonensis',\n",
       " 'Marivirga sericea',\n",
       " 'Marivirga tractuosa',\n",
       " 'Marivita hallyeonensis',\n",
       " 'Methylobacterium aquaticum',\n",
       " 'Methylomagnum ishizawai',\n",
       " 'Methylomonas koyamae',\n",
       " 'Methylophaga aminisulfidivorans',\n",
       " 'Methylophilus sp.',\n",
       " 'Methyloversatilis universalis',\n",
       " 'Methylovorus sp.',\n",
       " 'Microbacterium sp.',\n",
       " 'Microbacterium testaceum',\n",
       " 'Mucilaginibacter sp.',\n",
       " 'Muricauda sp.',\n",
       " 'Mycobacterium gordonae',\n",
       " 'Mycobacterium kansasii',\n",
       " 'Mycobacterium paragordonae',\n",
       " 'Mycobacterium persicum',\n",
       " 'Mycobacterium sp.',\n",
       " 'Mycobacterium szulgai',\n",
       " 'Mycobacteroides abscessus',\n",
       " 'Mycolicibacterium iranicum',\n",
       " 'Mycolicibacterium obuense',\n",
       " 'Neisseriaceae bacterium',\n",
       " 'Nesiotobacter exalbescens',\n",
       " 'Nitrococcus mobilis',\n",
       " 'Nitrosomonas communis',\n",
       " 'Nitrosomonas mobilis',\n",
       " 'Nitrosospira briensis',\n",
       " 'Nitrospira defluvii',\n",
       " 'Nitrospira sp.',\n",
       " 'Nitrospirae bacterium',\n",
       " 'Nonlabens dokdonensis',\n",
       " 'Nonlabens sp.',\n",
       " 'Noviherbaspirillum humi',\n",
       " 'Novosphingobium sp.',\n",
       " 'Novosphingobium subterraneum',\n",
       " 'Oceanibaculum indicum',\n",
       " 'Oceanospirillaceae bacterium',\n",
       " 'Paenibacillus sp.',\n",
       " 'Paludifilum halophilum',\n",
       " 'Pantoea allii',\n",
       " 'Pantoea ananatis',\n",
       " 'Pantoea stewartii',\n",
       " 'Parachlamydia sp.',\n",
       " 'Parageobacillus thermoglucosidasius',\n",
       " 'Parvibium lacunae',\n",
       " 'Parvularcula bermudensis',\n",
       " 'Pedobacter psychrophilus',\n",
       " 'Pedosphaera sp.',\n",
       " 'Phaeobacter gallaeciensis',\n",
       " 'Phaeobacter inhibens',\n",
       " 'Phaeobacter piscinae',\n",
       " 'Phaeobacter sp.',\n",
       " 'Pirellula staleyi',\n",
       " 'Planctomycetes bacterium',\n",
       " 'Polaribacter gangjinensis',\n",
       " 'Polaribacter glomeratus',\n",
       " 'Polaromonas sp.',\n",
       " 'Porphyrobacter dokdonensis',\n",
       " 'Prolixibacter denitrificans',\n",
       " 'Proteobacteria bacterium',\n",
       " 'Pseudacidovorax intermedius',\n",
       " 'Pseudoalteromonas elyakovii',\n",
       " 'Pseudoalteromonas issachenkonii',\n",
       " 'Pseudoalteromonas piscicida',\n",
       " 'Pseudoalteromonas rubra',\n",
       " 'Pseudoalteromonas sp.',\n",
       " 'Pseudogulbenkiania ferrooxidans',\n",
       " 'Pseudogulbenkiania subflava',\n",
       " 'Pseudohaliea rubra',\n",
       " 'Pseudomonas alcaligenes',\n",
       " 'Pseudomonas asplenii',\n",
       " 'Pseudomonas fulva',\n",
       " 'Pseudomonas mendocina',\n",
       " 'Pseudomonas psychrotolerans',\n",
       " 'Pseudomonas sp.',\n",
       " 'Pseudorhodobacter sp.',\n",
       " 'Psychroflexus gondwanensis',\n",
       " 'Psychroflexus sp.',\n",
       " 'Psychroflexus torquis',\n",
       " 'Puniceibacterium antarcticum',\n",
       " 'Puniceicoccaceae bacterium',\n",
       " 'Pusillimonas sp.',\n",
       " 'Quasibacillus thermotolerans',\n",
       " 'Ralstonia pickettii',\n",
       " 'Rheinheimera nanhaiensis',\n",
       " 'Rhizobium rhizosphaerae',\n",
       " 'Rhizobium sp.',\n",
       " 'Rhodobacteraceae bacterium',\n",
       " 'Rhodococcus sp.',\n",
       " 'Rhodopirellula sallentina',\n",
       " 'Rhodopseudomonas palustris',\n",
       " 'Roseivivax halotolerans',\n",
       " 'Roseovarius sp.',\n",
       " 'Roseovarius tolerans',\n",
       " 'Rubinisphaera brasiliensis',\n",
       " 'Rubrimonas cliftonensis',\n",
       " 'Rubritalea squalenifaciens',\n",
       " 'Ruegeria lacuscaerulensis',\n",
       " 'Ruegeria profundi',\n",
       " 'Ruegeria sp.',\n",
       " 'Rummeliibacillus sp.',\n",
       " 'Salinibacter sp.',\n",
       " 'Salinibacterium xinjiangense',\n",
       " 'Sandarakinorhabdus cyanobacteriorum',\n",
       " 'Sediminicola sp.',\n",
       " 'Shewanella sp.',\n",
       " 'Simkania negevensis',\n",
       " 'Simplicispira sp.',\n",
       " 'Singulisphaera acidiphila',\n",
       " 'Sorangium cellulosum',\n",
       " 'Sphingobium sp.',\n",
       " 'Sphingomonas elodea',\n",
       " 'Sphingomonas sp.',\n",
       " 'Sphingopyxis bauzanensis',\n",
       " 'Sphingopyxis sp.',\n",
       " 'Spiribacter sp.',\n",
       " 'Spirochaetae bacterium',\n",
       " 'Staphylococcus argenteus',\n",
       " 'Staphylococcus auricularis',\n",
       " 'Staphylococcus cohnii',\n",
       " 'Staphylococcus devriesei',\n",
       " 'Staphylococcus epidermidis',\n",
       " 'Staphylococcus hominis',\n",
       " 'Staphylococcus massiliensis',\n",
       " 'Staphylococcus petrasii',\n",
       " 'Staphylococcus pettenkoferi',\n",
       " 'Staphylococcus saprophyticus',\n",
       " 'Staphylococcus succinus',\n",
       " 'Staphylococcus warneri',\n",
       " 'Staphylococcus xylosus',\n",
       " 'Stappia indica',\n",
       " 'Streptococcus pneumoniae',\n",
       " 'Sulfobacillus acidophilus',\n",
       " 'Sulfuriferula sp.',\n",
       " 'Sulfurihydrogenibium sp.',\n",
       " 'Sulfurihydrogenibium yellowstonense',\n",
       " 'Tatlockia micdadei',\n",
       " 'Tenacibaculum finnmarkense',\n",
       " 'Thalassobacter stenotrophicus',\n",
       " 'Thalassospira sp.',\n",
       " 'Thalassospira tepidiphila',\n",
       " 'Thauera sp.',\n",
       " 'Thermaerobacter marianensis',\n",
       " 'Thermocrinis albus',\n",
       " 'Thermocrinis ruber',\n",
       " 'Thermoflavimicrobium sp.',\n",
       " 'Thiocapsa rosea',\n",
       " 'Thioclava electrotropha',\n",
       " 'Thiohalobacter thiocyanaticus',\n",
       " 'Thiohalorhabdus denitrificans',\n",
       " 'Thiomonas arsenitoxydans',\n",
       " 'Thiomonas sp.',\n",
       " 'Thiothrix caldifontis',\n",
       " 'Thiothrix lacustris',\n",
       " 'Thiothrix nivea',\n",
       " 'Tistrella mobilis',\n",
       " 'Verrucomicrobia bacterium',\n",
       " 'Verrucomicrobiales bacterium',\n",
       " 'Vibrio cholerae',\n",
       " 'Vibrio gazogenes',\n",
       " 'Vibrio navarrensis',\n",
       " 'Vibrio sp.',\n",
       " 'Wenyingzhuangia marina',\n",
       " 'Xanthomonas citri',\n",
       " 'Yoonia maricola',\n",
       " '[Bacillus',\n",
       " '[Bacillus thuringiensis',\n",
       " '[Brevibacterium',\n",
       " 'endosymbiont of',\n",
       " 'uncultured Aquificae']"
      ]
     },
     "execution_count": 32,
     "metadata": {},
     "output_type": "execute_result"
    }
   ],
   "source": [
    "keep_a_s[13].tolist()"
   ]
  },
  {
   "cell_type": "code",
   "execution_count": 295,
   "metadata": {},
   "outputs": [],
   "source": [
    "from Bio.SeqRecord import SeqRecord\n",
    "from Bio.Seq import Seq\n",
    "outfile = '/share/home/zabel/final_blast_hits/' + 'mpsa_bacteria_hits_ab.fasta'\n",
    "# keep only records which are in final list\n",
    "keep_records = []\n",
    "for i in range(len(keep_a_s)):\n",
    "    r = SeqRecord(Seq(keep_a_s.iloc[i][14]), \n",
    "                 id=keep_a_s.iloc[i][13],\n",
    "                 description='')\n",
    "    keep_records.append(r)\n",
    "with open (outfile, 'w') as output_handle:\n",
    "    SeqIO.write(keep_records, output_handle, 'fasta')"
   ]
  },
  {
   "cell_type": "code",
   "execution_count": 296,
   "metadata": {},
   "outputs": [],
   "source": [
    "outfile = '/share/home/zabel/final_blast_hits/' + 'mpsb_bacteria_hits_ab.fasta'\n",
    "# keep only records which are in final list\n",
    "keep_records = []\n",
    "for i in range(len(keep_b_s)):\n",
    "    r = SeqRecord(Seq(keep_b_s.iloc[i][14]), \n",
    "                 id=keep_b_s.iloc[i][13],\n",
    "                 description='')\n",
    "    keep_records.append(r)\n",
    "with open (outfile, 'w') as output_handle:\n",
    "    SeqIO.write(keep_records, output_handle, 'fasta')"
   ]
  },
  {
   "cell_type": "code",
   "execution_count": 289,
   "metadata": {},
   "outputs": [
    {
     "data": {
      "text/plain": [
       "Text(0.5, 1.0, 'Scatterplot')"
      ]
     },
     "execution_count": 289,
     "metadata": {},
     "output_type": "execute_result"
    },
    {
     "data": {
      "image/png": "[encoded data removed]",
      "text/plain": [
       "<Figure size 432x288 with 1 Axes>"
      ]
     },
     "metadata": {
      "needs_background": "light"
     },
     "output_type": "display_data"
    }
   ],
   "source": [
    "f = plt.figure()\n",
    "plt.scatter(list(keep_a['% identity']), list(keep_a['alignment length']))\n",
    "plt.xlabel('% identity')\n",
    "plt.ylabel('Alignment length')\n",
    "plt.title('Scatterplot')"
   ]
  },
  {
   "cell_type": "code",
   "execution_count": 290,
   "metadata": {},
   "outputs": [
    {
     "data": {
      "image/png": "[encoded data removed]",
      "text/plain": [
       "<Figure size 432x288 with 1 Axes>"
      ]
     },
     "metadata": {
      "needs_background": "light"
     },
     "output_type": "display_data"
    }
   ],
   "source": [
    "f = plt.figure()\n",
    "for i in range(len(keep_a)):\n",
    "    plt.scatter(keep_a_s[16].tolist(), keep_b_s[16].tolist())\n"
   ]
  },
  {
   "cell_type": "code",
   "execution_count": null,
   "metadata": {},
   "outputs": [],
   "source": []
  }
 ],
 "metadata": {
  "kernelspec": {
   "display_name": "Python 3",
   "language": "python",
   "name": "python3"
  },
  "language_info": {
   "codemirror_mode": {
    "name": "ipython",
    "version": 3
   },
   "file_extension": ".py",
   "mimetype": "text/x-python",
   "name": "python",
   "nbconvert_exporter": "python",
   "pygments_lexer": "ipython3",
   "version": "3.7.0"
  }
 },
 "nbformat": 4,
 "nbformat_minor": 2
}
